{
 "cells": [
  {
   "cell_type": "markdown",
   "metadata": {},
   "source": [
    "3. Непрерывная случайная величина X распределена нормально и задана плотностью распределения f(x) = (1 / (4 * sqrt(2pi))) * exp((-(x+2)**2) / 32). Найдите:\n",
    "-  M(X)\n",
    "-  D(X)\n",
    "-  std(X) (среднее квадратичное отклонение)\n",
    "\n",
    "Формула нормального распределения:  $\\ f(x)=\\frac{1}{\\sigma\\sqrt{2\\pi}}\\cdot e^{-\\frac{(x-\\mu)^2}{2\\sigma^2}}$ из которой мы можем понять, что:  \n",
    "  \n",
    "Так как $\\mu=M(X)$ из условия мы видим, что $-\\mu=2$, следовательно $\\mu=-2$  \n",
    "  \n",
    "${2\\sigma^2}=32 $, следовательно $\\sigma=4 $, а так как $\\sigma^2=D(X)$, следовательно $D(X)=16$   \n",
    "\n",
    "### Результат:  \n",
    "а) $М(Х) = -2 $;  \n",
    "б) $D(X) = 16$;  \n",
    "в) $\\sigma(X) = 4$  "
   ]
  }
 ],
 "metadata": {
  "kernelspec": {
   "display_name": "Python 3",
   "language": "python",
   "name": "python3"
  },
  "language_info": {
   "codemirror_mode": {
    "name": "ipython",
    "version": 3
   },
   "file_extension": ".py",
   "mimetype": "text/x-python",
   "name": "python",
   "nbconvert_exporter": "python",
   "pygments_lexer": "ipython3",
   "version": "3.11.6"
  }
 },
 "nbformat": 4,
 "nbformat_minor": 2
}
