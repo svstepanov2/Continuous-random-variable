{
 "cells": [
  {
   "cell_type": "markdown",
   "metadata": {},
   "source": [
    "1. Случайная непрерывная величина A имеет равномерное распределение на промежутке (200, 800]. Найдите ее среднее значение и дисперсию.\n",
    "\n",
    "Для данной задачи используем следующие формулы:  \n",
    "  \n",
    "Математическое ожидание: $\\ M(A)=\\frac{a+b}{2} $  \n",
    "  \n",
    "Дисперсия: $\\ D(A)=\\frac{(b-a)^2}{12}$   "
   ]
  },
  {
   "cell_type": "code",
   "execution_count": 1,
   "metadata": {},
   "outputs": [],
   "source": [
    "def mathematical_expectation(a, b):\n",
    "    return round((a + b) / 2, 2)"
   ]
  },
  {
   "cell_type": "code",
   "execution_count": 2,
   "metadata": {},
   "outputs": [],
   "source": [
    "def variance(a, b):\n",
    "    return round(((b - a) **2) / 12, 2)"
   ]
  },
  {
   "cell_type": "code",
   "execution_count": 3,
   "metadata": {},
   "outputs": [
    {
     "name": "stdout",
     "output_type": "stream",
     "text": [
      "Математическое ожидание M(A) = 500.0\n",
      "Дисперсия D(A) = 30000.0\n"
     ]
    }
   ],
   "source": [
    "a = 200\n",
    "b = 800\n",
    "print(f'Математическое ожидание M(A) = {mathematical_expectation(a, b)}\\n'\n",
    "      f'Дисперсия D(A) = {variance(a, b)}')"
   ]
  }
 ],
 "metadata": {
  "kernelspec": {
   "display_name": "Python 3",
   "language": "python",
   "name": "python3"
  },
  "language_info": {
   "codemirror_mode": {
    "name": "ipython",
    "version": 3
   },
   "file_extension": ".py",
   "mimetype": "text/x-python",
   "name": "python",
   "nbconvert_exporter": "python",
   "pygments_lexer": "ipython3",
   "version": "3.11.6"
  }
 },
 "nbformat": 4,
 "nbformat_minor": 2
}
