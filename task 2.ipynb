{
 "cells": [
  {
   "cell_type": "markdown",
   "metadata": {},
   "source": [
    "2. О случайной непрерывной равномерно распределенной величине B известно, что ее дисперсия равна 0.2. Можно ли найти правую границу величины B и ее среднее значение зная, что левая граница равна 0.5? Если да, найдите ее.\n",
    "\n",
    "Формула дисперсии $D(B)=\\frac{(b-a)^2}{12}$, где D=0.2, а левая граница a=0.5, значит:   \n",
    "$0.2=\\frac{(b-0.5)^2}{12}$  \n",
    "$0.2\\cdot 12=(b-0.5)^2$  \n",
    "$b-0.5=\\sqrt{2.4}$  \n",
    "$b=0.5+\\sqrt{2.4}$    \n",
    "Математическое ожидание: $\\displaystyle M(B)=\\frac{a+b}{2}$"
   ]
  },
  {
   "cell_type": "code",
   "execution_count": 1,
   "metadata": {},
   "outputs": [],
   "source": [
    "a = 0.5\n",
    "b = a + 2.4 **(1/2)"
   ]
  },
  {
   "cell_type": "code",
   "execution_count": 2,
   "metadata": {},
   "outputs": [],
   "source": [
    "def mathematical_expectation(a, b):\n",
    "    return round((a + b) / 2, 2)"
   ]
  },
  {
   "cell_type": "code",
   "execution_count": 3,
   "metadata": {},
   "outputs": [
    {
     "name": "stdout",
     "output_type": "stream",
     "text": [
      "Правая граница распределения b = 2.05\n",
      "Среднее значение M(B) = 1.27\n"
     ]
    }
   ],
   "source": [
    "print(f'Правая граница распределения b = {round(b, 2)}\\n'\n",
    "      f'Среднее значение M(B) = {mathematical_expectation(a, b)}')"
   ]
  }
 ],
 "metadata": {
  "kernelspec": {
   "display_name": "Python 3",
   "language": "python",
   "name": "python3"
  },
  "language_info": {
   "codemirror_mode": {
    "name": "ipython",
    "version": 3
   },
   "file_extension": ".py",
   "mimetype": "text/x-python",
   "name": "python",
   "nbconvert_exporter": "python",
   "pygments_lexer": "ipython3",
   "version": "3.11.6"
  }
 },
 "nbformat": 4,
 "nbformat_minor": 2
}
