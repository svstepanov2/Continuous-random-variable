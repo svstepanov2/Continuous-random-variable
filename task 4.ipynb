{
 "cells": [
  {
   "cell_type": "markdown",
   "metadata": {},
   "source": [
    "4. Рост взрослого населения города X имеет нормальное распределение. Причем, средний рост равен 174 см, а среднее квадратичное отклонение равно 8 см. Какова вероятность того, что случайным образом выбранный взрослый человек имеет рост: \n",
    "-  больше 182 см\n",
    "-  больше 190 см\n",
    "-  от 166 см до 190 см\n",
    "-  от 166 см до 182 см\n",
    "-  от 158 см до 190 см\n",
    "-  не выше 150 см или не ниже 190 см\n",
    "-  не выше 150 см или не ниже 198 см\n",
    "-  ниже 166 см.\n",
    "\n",
    "Используется функция распределения: $F(x)=P(X<x)$, формулой Z-оценкой $Z=\\frac{X-\\mu}{\\sigma}$ и если $P(X\\ge x)=1-Z$\n",
    "\n"
   ]
  },
  {
   "cell_type": "code",
   "execution_count": 9,
   "metadata": {},
   "outputs": [],
   "source": [
    "from scipy import stats\n",
    "from statistics import NormalDist"
   ]
  },
  {
   "cell_type": "code",
   "execution_count": 7,
   "metadata": {},
   "outputs": [],
   "source": [
    "def z_value(x, mu, sigma):\n",
    "    return (x - mu) / sigma"
   ]
  },
  {
   "cell_type": "markdown",
   "metadata": {},
   "source": [
    "a) больше 182 см:"
   ]
  },
  {
   "cell_type": "code",
   "execution_count": 59,
   "metadata": {},
   "outputs": [
    {
     "data": {
      "text/plain": [
       "0.8413447460685428"
      ]
     },
     "execution_count": 59,
     "metadata": {},
     "output_type": "execute_result"
    }
   ],
   "source": [
    "ZA = NormalDist().cdf(z_value(182, 174, 8))\n",
    "ZA"
   ]
  },
  {
   "cell_type": "code",
   "execution_count": 60,
   "metadata": {},
   "outputs": [
    {
     "data": {
      "text/plain": [
       "0.8413447460685429"
      ]
     },
     "execution_count": 60,
     "metadata": {},
     "output_type": "execute_result"
    }
   ],
   "source": [
    "stats.norm.cdf(182, 174, 8)"
   ]
  },
  {
   "cell_type": "code",
   "execution_count": 61,
   "metadata": {},
   "outputs": [],
   "source": [
    "PA = 1 - ZA"
   ]
  },
  {
   "cell_type": "markdown",
   "metadata": {},
   "source": [
    "б) больше 190 см:"
   ]
  },
  {
   "cell_type": "code",
   "execution_count": 62,
   "metadata": {},
   "outputs": [],
   "source": [
    "PB = 1 - stats.norm.cdf(190, 174, 8)"
   ]
  },
  {
   "cell_type": "markdown",
   "metadata": {},
   "source": [
    "в) от 166 см до 190 см"
   ]
  },
  {
   "cell_type": "code",
   "execution_count": 63,
   "metadata": {},
   "outputs": [
    {
     "data": {
      "text/plain": [
       "0.15865525393145713"
      ]
     },
     "execution_count": 63,
     "metadata": {},
     "output_type": "execute_result"
    }
   ],
   "source": [
    "ZC1 = NormalDist().cdf(z_value(166, 174, 8))\n",
    "ZC1"
   ]
  },
  {
   "cell_type": "code",
   "execution_count": 64,
   "metadata": {},
   "outputs": [
    {
     "data": {
      "text/plain": [
       "0.15865525393145707"
      ]
     },
     "execution_count": 64,
     "metadata": {},
     "output_type": "execute_result"
    }
   ],
   "source": [
    "stats.norm.cdf(166, 174, 8)"
   ]
  },
  {
   "cell_type": "code",
   "execution_count": 65,
   "metadata": {},
   "outputs": [
    {
     "data": {
      "text/plain": [
       "0.9772498680518209"
      ]
     },
     "execution_count": 65,
     "metadata": {},
     "output_type": "execute_result"
    }
   ],
   "source": [
    "ZC2 = NormalDist().cdf(z_value(190, 174, 8))\n",
    "ZC2"
   ]
  },
  {
   "cell_type": "code",
   "execution_count": 66,
   "metadata": {},
   "outputs": [
    {
     "data": {
      "text/plain": [
       "0.9772498680518208"
      ]
     },
     "execution_count": 66,
     "metadata": {},
     "output_type": "execute_result"
    }
   ],
   "source": [
    "stats.norm.cdf(190, 174, 8)"
   ]
  },
  {
   "cell_type": "code",
   "execution_count": 67,
   "metadata": {},
   "outputs": [],
   "source": [
    "PC = ZC2 - ZC1"
   ]
  },
  {
   "cell_type": "markdown",
   "metadata": {},
   "source": [
    "г) от 166 см до 182 см"
   ]
  },
  {
   "cell_type": "code",
   "execution_count": 68,
   "metadata": {},
   "outputs": [],
   "source": [
    "PD = stats.norm.cdf(182, 174, 8) - stats.norm.cdf(166, 174, 8)"
   ]
  },
  {
   "cell_type": "markdown",
   "metadata": {},
   "source": [
    "д) от 158 см до 190 см"
   ]
  },
  {
   "cell_type": "code",
   "execution_count": 71,
   "metadata": {},
   "outputs": [],
   "source": [
    "PE = stats.norm.cdf(190, 174, 8) - stats.norm.cdf(158, 174, 8)"
   ]
  },
  {
   "cell_type": "markdown",
   "metadata": {},
   "source": [
    "е) не выше 150 см или не ниже 190 см"
   ]
  },
  {
   "cell_type": "code",
   "execution_count": 74,
   "metadata": {},
   "outputs": [
    {
     "data": {
      "text/plain": [
       "0.0013498980316301035"
      ]
     },
     "execution_count": 74,
     "metadata": {},
     "output_type": "execute_result"
    }
   ],
   "source": [
    "ZF1 = NormalDist().cdf(z_value(150, 174, 8))\n",
    "ZF1"
   ]
  },
  {
   "cell_type": "code",
   "execution_count": 76,
   "metadata": {},
   "outputs": [
    {
     "data": {
      "text/plain": [
       "0.001349898031630093"
      ]
     },
     "execution_count": 76,
     "metadata": {},
     "output_type": "execute_result"
    }
   ],
   "source": [
    "stats.norm.cdf(150, 174, 8)"
   ]
  },
  {
   "cell_type": "code",
   "execution_count": 75,
   "metadata": {},
   "outputs": [
    {
     "data": {
      "text/plain": [
       "0.9772498680518209"
      ]
     },
     "execution_count": 75,
     "metadata": {},
     "output_type": "execute_result"
    }
   ],
   "source": [
    "ZF2 = NormalDist().cdf(z_value(190, 174, 8))\n",
    "ZF2"
   ]
  },
  {
   "cell_type": "code",
   "execution_count": 77,
   "metadata": {},
   "outputs": [
    {
     "data": {
      "text/plain": [
       "0.9772498680518208"
      ]
     },
     "execution_count": 77,
     "metadata": {},
     "output_type": "execute_result"
    }
   ],
   "source": [
    "stats.norm.cdf(190, 174, 8)"
   ]
  },
  {
   "cell_type": "code",
   "execution_count": 78,
   "metadata": {},
   "outputs": [],
   "source": [
    "PF = ZF1 + (1 - ZF2)"
   ]
  },
  {
   "cell_type": "markdown",
   "metadata": {},
   "source": [
    "ё) не выше 150 см или не ниже 198 см"
   ]
  },
  {
   "cell_type": "code",
   "execution_count": 80,
   "metadata": {},
   "outputs": [],
   "source": [
    "PG = stats.norm.cdf(150, 174, 8) + (1 - stats.norm.cdf(198, 174, 8))"
   ]
  },
  {
   "cell_type": "markdown",
   "metadata": {},
   "source": [
    "ж) ниже 166 см"
   ]
  },
  {
   "cell_type": "code",
   "execution_count": 82,
   "metadata": {},
   "outputs": [],
   "source": [
    "PH = stats.norm.cdf(166, 174, 8)"
   ]
  },
  {
   "cell_type": "code",
   "execution_count": 83,
   "metadata": {},
   "outputs": [
    {
     "name": "stdout",
     "output_type": "stream",
     "text": [
      "а) Какова вероятность того, что случайным образом выбранный взрослый человек имеет рост больше 182 см = 0.1587 = 15.87%\n",
      "б) Какова вероятность того, что случайным образом выбранный взрослый человек имеет рост больше 190 см = 0.0228 = 2.28%\n",
      "в) Какова вероятность того, что случайным образом выбранный взрослый человек имеет рост от 166 см до 190 см = 0.8186 = 81.86%\n",
      "г) Какова вероятность того, что случайным образом выбранный взрослый человек имеет рост от 166 см до 182 см = 0.6827 = 68.27%\n",
      "д) Какова вероятность того, что случайным образом выбранный взрослый человек имеет рост от 158 см до 190 см = 0.9545 = 95.45%\n",
      "е) Какова вероятность того, что случайным образом выбранный взрослый человек имеет рост не выше 150 см или не ниже 190 см = 0.0241 = 2.41%\n",
      "ё) Какова вероятность того, что случайным образом выбранный взрослый человек имеет рост не выше 150 см или не ниже 198 см = 0.0027 = 0.27%\n",
      "ж) Какова вероятность того, что случайным образом выбранный взрослый человек имеет рост ниже 166 см  = 0.1587 = 15.87%\n"
     ]
    }
   ],
   "source": [
    "print(f'а) Какова вероятность того, что случайным образом выбранный взрослый человек имеет рост больше 182 см = {round(PA, 4)} = {round(PA * 100, 2)}%\\n'\n",
    "      f'б) Какова вероятность того, что случайным образом выбранный взрослый человек имеет рост больше 190 см = {round(PB, 4)} = {round(PB * 100, 2)}%\\n'\n",
    "      f'в) Какова вероятность того, что случайным образом выбранный взрослый человек имеет рост от 166 см до 190 см = {round(PC, 4)} = {round(PC * 100, 2)}%\\n'\n",
    "      f'г) Какова вероятность того, что случайным образом выбранный взрослый человек имеет рост от 166 см до 182 см = {round(PD, 4)} = {round(PD * 100, 2)}%\\n'\n",
    "      f'д) Какова вероятность того, что случайным образом выбранный взрослый человек имеет рост от 158 см до 190 см = {round(PE, 4)} = {round(PE * 100, 2)}%\\n'\n",
    "      f'е) Какова вероятность того, что случайным образом выбранный взрослый человек имеет рост не выше 150 см или не ниже 190 см = {round(PF, 4)} = {round(PF * 100, 2)}%\\n'\n",
    "      f'ё) Какова вероятность того, что случайным образом выбранный взрослый человек имеет рост не выше 150 см или не ниже 198 см = {round(PG, 4)} = {round(PG * 100, 2)}%\\n'\n",
    "      f'ж) Какова вероятность того, что случайным образом выбранный взрослый человек имеет рост ниже 166 см  = {round(PH, 4)} = {round(PH * 100, 2)}%'   )"
   ]
  }
 ],
 "metadata": {
  "kernelspec": {
   "display_name": "Python 3",
   "language": "python",
   "name": "python3"
  },
  "language_info": {
   "codemirror_mode": {
    "name": "ipython",
    "version": 3
   },
   "file_extension": ".py",
   "mimetype": "text/x-python",
   "name": "python",
   "nbconvert_exporter": "python",
   "pygments_lexer": "ipython3",
   "version": "3.11.6"
  }
 },
 "nbformat": 4,
 "nbformat_minor": 2
}
